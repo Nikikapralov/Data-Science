{
 "cells": [
  {
   "cell_type": "markdown",
   "metadata": {},
   "source": [
    "# Finding the equation of a line by 2 given points"
   ]
  },
  {
   "cell_type": "markdown",
   "metadata": {},
   "source": [
    "## What is a slope and what is an *y* - intercept? The fast explanation.\n",
    "### In short, the slope is the number *m* that is multiplied by  *x* in the equation $y = mx + b$.\n",
    "### The *y* - intercept is the number *b* in the abovementioned equation."
   ]
  },
  {
   "cell_type": "markdown",
   "metadata": {},
   "source": [
    "## Calculating the slope\n",
    "### In order to calculate the slope, we need to know coordinates of the 2 points, *x1, y1, x2, y2* respectably.\n",
    "### Since, by definition for this method, we already have them, we only need to solve the following equation which will give us the slope, *m*. $$m = \\dfrac{(y2 - y1)}{(x2 - x1)}$$"
   ]
  },
  {
   "cell_type": "markdown",
   "metadata": {},
   "source": [
    "## Calculating the *y* - intercept or *b* in our case.\n",
    "### In order to calculate *y*, we need to substitude the result from the previous operation into *m* for the linear equation. Then we need to choose a point (either of the two starting points will do the job) and substitute the values for *x* and *y* into the equation. Solving the equation for *b* will give is the *y* - intercept. Now, we just need to substitute *b* into the equation to get the final result."
   ]
  },
  {
   "cell_type": "markdown",
   "metadata": {},
   "source": [
    "## Demo\n",
    "### The following python code will return the equation of a line, when only 2 points it passes through are known. The required inputs are the coordinates of the 2 points.\n",
    "\n"
   ]
  },
  {
   "cell_type": "code",
   "execution_count": 7,
   "metadata": {},
   "outputs": [],
   "source": [
    "def get_slope(x1, y1, x2, y2):\n",
    "    slope = (y2 - y1) / (x2 - x1)\n",
    "    return slope"
   ]
  },
  {
   "cell_type": "code",
   "execution_count": 20,
   "metadata": {},
   "outputs": [],
   "source": [
    "def get_y_intercept(x1, y1, m):\n",
    "    b = -m * x1 + y1\n",
    "    return b"
   ]
  },
  {
   "cell_type": "code",
   "execution_count": 25,
   "metadata": {},
   "outputs": [],
   "source": [
    "def get_equation(x1, y1, x2, y2):\n",
    "    m = get_slope(x1, y1, x2, y2)\n",
    "    b = get_y_intercept(x1, y1, m)\n",
    "    equation = f'y = {m:.02f}x + {b:.02f}'\n",
    "    return equation\n",
    "    "
   ]
  },
  {
   "cell_type": "code",
   "execution_count": 26,
   "metadata": {},
   "outputs": [
    {
     "data": {
      "text/plain": [
       "'y = -0.32x + 0.45'"
      ]
     },
     "execution_count": 26,
     "metadata": {},
     "output_type": "execute_result"
    }
   ],
   "source": [
    "get_equation()"
   ]
  },
  {
   "cell_type": "code",
   "execution_count": null,
   "metadata": {},
   "outputs": [],
   "source": []
  },
  {
   "cell_type": "code",
   "execution_count": null,
   "metadata": {},
   "outputs": [],
   "source": []
  },
  {
   "cell_type": "code",
   "execution_count": null,
   "metadata": {},
   "outputs": [],
   "source": []
  }
 ],
 "metadata": {
  "kernelspec": {
   "display_name": "Python 3",
   "language": "python",
   "name": "python3"
  },
  "language_info": {
   "codemirror_mode": {
    "name": "ipython",
    "version": 3
   },
   "file_extension": ".py",
   "mimetype": "text/x-python",
   "name": "python",
   "nbconvert_exporter": "python",
   "pygments_lexer": "ipython3",
   "version": "3.8.5"
  }
 },
 "nbformat": 4,
 "nbformat_minor": 4
}
